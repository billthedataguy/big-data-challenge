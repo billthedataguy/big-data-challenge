{
  "nbformat": 4,
  "nbformat_minor": 0,
  "metadata": {
    "colab": {
      "provenance": []
    },
    "kernelspec": {
      "name": "python3",
      "display_name": "Python 3"
    },
    "language_info": {
      "name": "python"
    }
  },
  "cells": [
    {
      "cell_type": "code",
      "execution_count": 1,
      "metadata": {
        "colab": {
          "base_uri": "https://localhost:8080/"
        },
        "id": "b7hwcB89gNoQ",
        "outputId": "fe9a61b6-1992-4e89-e751-c95c1a1a6511"
      },
      "outputs": [
        {
          "output_type": "stream",
          "name": "stdout",
          "text": [
            "Hit:1 https://cloud.r-project.org/bin/linux/ubuntu bionic-cran40/ InRelease\n",
            "Hit:2 http://security.ubuntu.com/ubuntu bionic-security InRelease\n",
            "Hit:3 http://ppa.launchpad.net/c2d4u.team/c2d4u4.0+/ubuntu bionic InRelease\n",
            "Ign:4 https://developer.download.nvidia.com/compute/machine-learning/repos/ubuntu1804/x86_64  InRelease\n",
            "Hit:5 https://developer.download.nvidia.com/compute/cuda/repos/ubuntu1804/x86_64  InRelease\n",
            "Hit:6 http://archive.ubuntu.com/ubuntu bionic InRelease\n",
            "Hit:7 https://developer.download.nvidia.com/compute/machine-learning/repos/ubuntu1804/x86_64  Release\n",
            "Hit:8 http://archive.ubuntu.com/ubuntu bionic-updates InRelease\n",
            "Hit:9 http://ppa.launchpad.net/cran/libgit2/ubuntu bionic InRelease\n",
            "Hit:10 http://archive.ubuntu.com/ubuntu bionic-backports InRelease\n",
            "Hit:11 http://ppa.launchpad.net/deadsnakes/ppa/ubuntu bionic InRelease\n",
            "Hit:12 http://ppa.launchpad.net/graphics-drivers/ppa/ubuntu bionic InRelease\n",
            "Reading package lists... Done\n"
          ]
        }
      ],
      "source": [
        "import os\n",
        "spark_version = \"spark-3.2.2\"\n",
        "os.environ[\"SPARK_VERSION\"] = spark_version\n",
        "\n",
        "!apt-get update\n",
        "!apt-get install openjdk-8-jdk-headless -qq > /dev/null\n",
        "!wget -q http://www.apache.org/dist/spark/$SPARK_VERSION/$SPARK_VERSION-bin-hadoop2.7.tgz\n",
        "!tar xf $SPARK_VERSION-bin-hadoop2.7.tgz\n",
        "!pip install -q findspark\n",
        "\n",
        "os.environ[\"JAVA_HOME\"] = \"/usr/lib/jvm/java-8-openjdk-amd64\"\n",
        "os.environ[\"SPARK_HOME\"] = f\"/content/{spark_version}-bin-hadoop2.7\"\n",
        "\n",
        "import findspark\n",
        "findspark.init()"
      ]
    },
    {
      "cell_type": "code",
      "source": [
        "!wget https://jdbc.postgresql.org/download/postgresql-42.2.9.jar"
      ],
      "metadata": {
        "id": "XNQ4JKuoZmec",
        "colab": {
          "base_uri": "https://localhost:8080/"
        },
        "outputId": "73997ee1-6be5-4e90-c910-82f98a3df38f"
      },
      "execution_count": 2,
      "outputs": [
        {
          "output_type": "stream",
          "name": "stdout",
          "text": [
            "--2022-11-20 23:44:18--  https://jdbc.postgresql.org/download/postgresql-42.2.9.jar\n",
            "Resolving jdbc.postgresql.org (jdbc.postgresql.org)... 72.32.157.228, 2001:4800:3e1:1::228\n",
            "Connecting to jdbc.postgresql.org (jdbc.postgresql.org)|72.32.157.228|:443... connected.\n",
            "HTTP request sent, awaiting response... 200 OK\n",
            "Length: 914037 (893K) [application/java-archive]\n",
            "Saving to: ‘postgresql-42.2.9.jar’\n",
            "\n",
            "postgresql-42.2.9.j 100%[===================>] 892.61K  5.67MB/s    in 0.2s    \n",
            "\n",
            "2022-11-20 23:44:19 (5.67 MB/s) - ‘postgresql-42.2.9.jar’ saved [914037/914037]\n",
            "\n"
          ]
        }
      ]
    },
    {
      "cell_type": "code",
      "source": [
        "from pyspark.sql import SparkSession\n",
        "\n",
        "spark = SparkSession.builder.appName(\"Digital_Software\").config(\"spark.driver.extraClassPath\",\"/content/postgresql-42.2.9.jar\").getOrCreate()"
      ],
      "metadata": {
        "id": "Ly5mM2Quhp0E"
      },
      "execution_count": 3,
      "outputs": []
    },
    {
      "cell_type": "code",
      "source": [
        "from pyspark import SparkFiles\n",
        "\n",
        "url= \"https://s3.amazonaws.com/amazon-reviews-pds/tsv/amazon_reviews_us_Digital_Software_v1_00.tsv.gz\"\n",
        "spark.sparkContext.addFile(url)"
      ],
      "metadata": {
        "id": "MPojaFSqicPY"
      },
      "execution_count": 4,
      "outputs": []
    },
    {
      "cell_type": "code",
      "source": [
        "df = spark.read.csv(SparkFiles.get(\"amazon_reviews_us_Digital_Software_v1_00.tsv.gz\"), sep=\"\\t\", header=True, inferSchema=True)\n",
        "\n",
        "df.show()"
      ],
      "metadata": {
        "colab": {
          "base_uri": "https://localhost:8080/"
        },
        "id": "ueWfpRf-icRy",
        "outputId": "b6e0ba04-9b53-46e4-e70b-2396ea0ac7eb"
      },
      "execution_count": 5,
      "outputs": [
        {
          "output_type": "stream",
          "name": "stdout",
          "text": [
            "+-----------+-----------+--------------+----------+--------------+--------------------+----------------+-----------+-------------+-----------+----+-----------------+--------------------+--------------------+-----------+\n",
            "|marketplace|customer_id|     review_id|product_id|product_parent|       product_title|product_category|star_rating|helpful_votes|total_votes|vine|verified_purchase|     review_headline|         review_body|review_date|\n",
            "+-----------+-----------+--------------+----------+--------------+--------------------+----------------+-----------+-------------+-----------+----+-----------------+--------------------+--------------------+-----------+\n",
            "|         US|   17747349|R2EI7QLPK4LF7U|B00U7LCE6A|     106182406|CCleaner Free [Do...|Digital_Software|          4|            0|          0|   N|                Y|          Four Stars|      So far so good| 2015-08-31|\n",
            "|         US|   10956619|R1W5OMFK1Q3I3O|B00HRJMOM4|     162269768|ResumeMaker Profe...|Digital_Software|          3|            0|          0|   N|                Y|         Three Stars|Needs a little mo...| 2015-08-31|\n",
            "|         US|   13132245| RPZWSYWRP92GI|B00P31G9PQ|     831433899|Amazon Drive Desk...|Digital_Software|          1|            1|          2|   N|                Y|            One Star|      Please cancel.| 2015-08-31|\n",
            "|         US|   35717248|R2WQWM04XHD9US|B00FGDEPDY|     991059534|Norton Internet S...|Digital_Software|          5|            0|          0|   N|                Y|  Works as Expected!|  Works as Expected!| 2015-08-31|\n",
            "|         US|   17710652|R1WSPK2RA2PDEF|B00FZ0FK0U|     574904556|SecureAnywhere In...|Digital_Software|          4|            1|          2|   N|                Y|Great antivirus. ...|I've had Webroot ...| 2015-08-31|\n",
            "|         US|   42392705|R11JVGRZRHTDAS|B004KPKSRQ|     306022575|Pc Matic Performa...|Digital_Software|          5|            4|          4|   N|                N|Great choice in s...|EXCELLENT softwar...| 2015-08-31|\n",
            "|         US|   52845868|R2B8468OKXXYE2|B00B1TFNTW|      54873662|Microsoft OneNote...|Digital_Software|          1|            1|          1|   N|                N|Munch, munch, mun...|The variations cr...| 2015-08-31|\n",
            "|         US|   15696503|R2HGGCCZSSNUCB|B00M9GTJLY|     103182180|Intuit Quicken Re...|Digital_Software|          1|            0|          0|   N|                Y|Horrible! Would n...|Horrible!  Would ...| 2015-08-31|\n",
            "|         US|    9723928| REEE4LHSVPRV9|B00H9A60O4|     608720080|Avast Free Antivi...|Digital_Software|          1|            0|          0|   N|                Y|            One Star|     Waste of time .| 2015-08-31|\n",
            "|         US|   23522877|R25OMUUILFFHI9|B008XAXAC4|      87969525|Apache OpenOffice...|Digital_Software|          5|            0|          0|   N|                Y|Very good suite o...|Work as easy as o...| 2015-08-31|\n",
            "|         US|   17022093|R2966PB8UBD5BM|B00MHZ6Z64|     249773946|     Norton Security|Digital_Software|          5|            0|          0|   N|                Y|          Five Stars|    Works perfectly!| 2015-08-31|\n",
            "|         US|   11635690|R1OU91L2G5H6H1|B00OPCQ70Q|     956532818|Corel Painter Ess...|Digital_Software|          1|            0|          2|   N|                Y|            One Star|Will not open on ...| 2015-08-31|\n",
            "|         US|   50349059|R3M6YQVMXWGTR6|B00MHZ71G2|       8655796|Norton Security w...|Digital_Software|          5|            0|          0|   N|                Y|Purchased this on...|Purchased this on...| 2015-08-31|\n",
            "|         US|     450121|R2M8VZGO4BFN9J|B00O8J0W6G|       7338419|Movavi Screen Cap...|Digital_Software|          1|            0|          1|   N|                Y|            One Star|God awful and did...| 2015-08-31|\n",
            "|         US|    2320642|R3UH0MJKIJ4VLP|B00NMPZCH6|     985055699|Photoshop Element...|Digital_Software|          3|            2|          3|   N|                Y|         Three Stars|I think its compl...| 2015-08-31|\n",
            "|         US|   16089737|R3E906WYGZVKWO|B012P5SJNC|     490456974|LearnSmart for Th...|Digital_Software|          1|            2|          2|   N|                Y|Will not work for...|You can purchase ...| 2015-08-31|\n",
            "|         US|   14082044|R1Z3N8UA5YQOV2|B00V9ZPIXY|      57097904|Fotor for Windows...|Digital_Software|          2|            0|          0|   N|                Y|           Two Stars|    it wont download| 2015-08-31|\n",
            "|         US|   18246272|R2VH10XSOR1QHF|B00LU2XHAC|     962800663|Kaspersky Anti-Vi...|Digital_Software|          5|            0|          0|   N|                Y|          Five Stars|I have been using...| 2015-08-31|\n",
            "|         US|   31837971|R1KCPJ8UASZESF|B0068TJOSQ|     154476766|H&R Block At Home...|Digital_Software|          5|            0|          0|   N|                Y|This was a Great ...|This was a Great ...| 2015-08-31|\n",
            "|         US|   12631500| RWTF87EKV4DYO|B00SGYWM80|     780881648| onlineTV [Download]|Digital_Software|          3|            0|          0|   N|                Y|         Three Stars|did not use,inter...| 2015-08-31|\n",
            "+-----------+-----------+--------------+----------+--------------+--------------------+----------------+-----------+-------------+-----------+----+-----------------+--------------------+--------------------+-----------+\n",
            "only showing top 20 rows\n",
            "\n"
          ]
        }
      ]
    },
    {
      "cell_type": "code",
      "source": [
        "df.printSchema()"
      ],
      "metadata": {
        "colab": {
          "base_uri": "https://localhost:8080/"
        },
        "id": "G_DowwwlicUT",
        "outputId": "78c008bc-1977-4f22-b53d-c437f448dc9c"
      },
      "execution_count": 6,
      "outputs": [
        {
          "output_type": "stream",
          "name": "stdout",
          "text": [
            "root\n",
            " |-- marketplace: string (nullable = true)\n",
            " |-- customer_id: integer (nullable = true)\n",
            " |-- review_id: string (nullable = true)\n",
            " |-- product_id: string (nullable = true)\n",
            " |-- product_parent: integer (nullable = true)\n",
            " |-- product_title: string (nullable = true)\n",
            " |-- product_category: string (nullable = true)\n",
            " |-- star_rating: integer (nullable = true)\n",
            " |-- helpful_votes: integer (nullable = true)\n",
            " |-- total_votes: integer (nullable = true)\n",
            " |-- vine: string (nullable = true)\n",
            " |-- verified_purchase: string (nullable = true)\n",
            " |-- review_headline: string (nullable = true)\n",
            " |-- review_body: string (nullable = true)\n",
            " |-- review_date: string (nullable = true)\n",
            "\n"
          ]
        }
      ]
    },
    {
      "cell_type": "code",
      "source": [
        "df = df.withColumn(\"review_date\", df[\"review_date\"].cast(\"date\"))"
      ],
      "metadata": {
        "id": "QwnpBCyCjUBT"
      },
      "execution_count": 7,
      "outputs": []
    },
    {
      "cell_type": "code",
      "source": [
        "df.printSchema()"
      ],
      "metadata": {
        "colab": {
          "base_uri": "https://localhost:8080/"
        },
        "id": "iwRBonZLjUFZ",
        "outputId": "b8e9f1d7-2792-450a-c118-e64b6b618315"
      },
      "execution_count": 8,
      "outputs": [
        {
          "output_type": "stream",
          "name": "stdout",
          "text": [
            "root\n",
            " |-- marketplace: string (nullable = true)\n",
            " |-- customer_id: integer (nullable = true)\n",
            " |-- review_id: string (nullable = true)\n",
            " |-- product_id: string (nullable = true)\n",
            " |-- product_parent: integer (nullable = true)\n",
            " |-- product_title: string (nullable = true)\n",
            " |-- product_category: string (nullable = true)\n",
            " |-- star_rating: integer (nullable = true)\n",
            " |-- helpful_votes: integer (nullable = true)\n",
            " |-- total_votes: integer (nullable = true)\n",
            " |-- vine: string (nullable = true)\n",
            " |-- verified_purchase: string (nullable = true)\n",
            " |-- review_headline: string (nullable = true)\n",
            " |-- review_body: string (nullable = true)\n",
            " |-- review_date: date (nullable = true)\n",
            "\n"
          ]
        }
      ]
    },
    {
      "cell_type": "code",
      "source": [
        "df.show()"
      ],
      "metadata": {
        "colab": {
          "base_uri": "https://localhost:8080/"
        },
        "id": "Hevn933VjuJT",
        "outputId": "781e3406-d6f6-42b0-8ee2-945849ad2085"
      },
      "execution_count": 9,
      "outputs": [
        {
          "output_type": "stream",
          "name": "stdout",
          "text": [
            "+-----------+-----------+--------------+----------+--------------+--------------------+----------------+-----------+-------------+-----------+----+-----------------+--------------------+--------------------+-----------+\n",
            "|marketplace|customer_id|     review_id|product_id|product_parent|       product_title|product_category|star_rating|helpful_votes|total_votes|vine|verified_purchase|     review_headline|         review_body|review_date|\n",
            "+-----------+-----------+--------------+----------+--------------+--------------------+----------------+-----------+-------------+-----------+----+-----------------+--------------------+--------------------+-----------+\n",
            "|         US|   17747349|R2EI7QLPK4LF7U|B00U7LCE6A|     106182406|CCleaner Free [Do...|Digital_Software|          4|            0|          0|   N|                Y|          Four Stars|      So far so good| 2015-08-31|\n",
            "|         US|   10956619|R1W5OMFK1Q3I3O|B00HRJMOM4|     162269768|ResumeMaker Profe...|Digital_Software|          3|            0|          0|   N|                Y|         Three Stars|Needs a little mo...| 2015-08-31|\n",
            "|         US|   13132245| RPZWSYWRP92GI|B00P31G9PQ|     831433899|Amazon Drive Desk...|Digital_Software|          1|            1|          2|   N|                Y|            One Star|      Please cancel.| 2015-08-31|\n",
            "|         US|   35717248|R2WQWM04XHD9US|B00FGDEPDY|     991059534|Norton Internet S...|Digital_Software|          5|            0|          0|   N|                Y|  Works as Expected!|  Works as Expected!| 2015-08-31|\n",
            "|         US|   17710652|R1WSPK2RA2PDEF|B00FZ0FK0U|     574904556|SecureAnywhere In...|Digital_Software|          4|            1|          2|   N|                Y|Great antivirus. ...|I've had Webroot ...| 2015-08-31|\n",
            "|         US|   42392705|R11JVGRZRHTDAS|B004KPKSRQ|     306022575|Pc Matic Performa...|Digital_Software|          5|            4|          4|   N|                N|Great choice in s...|EXCELLENT softwar...| 2015-08-31|\n",
            "|         US|   52845868|R2B8468OKXXYE2|B00B1TFNTW|      54873662|Microsoft OneNote...|Digital_Software|          1|            1|          1|   N|                N|Munch, munch, mun...|The variations cr...| 2015-08-31|\n",
            "|         US|   15696503|R2HGGCCZSSNUCB|B00M9GTJLY|     103182180|Intuit Quicken Re...|Digital_Software|          1|            0|          0|   N|                Y|Horrible! Would n...|Horrible!  Would ...| 2015-08-31|\n",
            "|         US|    9723928| REEE4LHSVPRV9|B00H9A60O4|     608720080|Avast Free Antivi...|Digital_Software|          1|            0|          0|   N|                Y|            One Star|     Waste of time .| 2015-08-31|\n",
            "|         US|   23522877|R25OMUUILFFHI9|B008XAXAC4|      87969525|Apache OpenOffice...|Digital_Software|          5|            0|          0|   N|                Y|Very good suite o...|Work as easy as o...| 2015-08-31|\n",
            "|         US|   17022093|R2966PB8UBD5BM|B00MHZ6Z64|     249773946|     Norton Security|Digital_Software|          5|            0|          0|   N|                Y|          Five Stars|    Works perfectly!| 2015-08-31|\n",
            "|         US|   11635690|R1OU91L2G5H6H1|B00OPCQ70Q|     956532818|Corel Painter Ess...|Digital_Software|          1|            0|          2|   N|                Y|            One Star|Will not open on ...| 2015-08-31|\n",
            "|         US|   50349059|R3M6YQVMXWGTR6|B00MHZ71G2|       8655796|Norton Security w...|Digital_Software|          5|            0|          0|   N|                Y|Purchased this on...|Purchased this on...| 2015-08-31|\n",
            "|         US|     450121|R2M8VZGO4BFN9J|B00O8J0W6G|       7338419|Movavi Screen Cap...|Digital_Software|          1|            0|          1|   N|                Y|            One Star|God awful and did...| 2015-08-31|\n",
            "|         US|    2320642|R3UH0MJKIJ4VLP|B00NMPZCH6|     985055699|Photoshop Element...|Digital_Software|          3|            2|          3|   N|                Y|         Three Stars|I think its compl...| 2015-08-31|\n",
            "|         US|   16089737|R3E906WYGZVKWO|B012P5SJNC|     490456974|LearnSmart for Th...|Digital_Software|          1|            2|          2|   N|                Y|Will not work for...|You can purchase ...| 2015-08-31|\n",
            "|         US|   14082044|R1Z3N8UA5YQOV2|B00V9ZPIXY|      57097904|Fotor for Windows...|Digital_Software|          2|            0|          0|   N|                Y|           Two Stars|    it wont download| 2015-08-31|\n",
            "|         US|   18246272|R2VH10XSOR1QHF|B00LU2XHAC|     962800663|Kaspersky Anti-Vi...|Digital_Software|          5|            0|          0|   N|                Y|          Five Stars|I have been using...| 2015-08-31|\n",
            "|         US|   31837971|R1KCPJ8UASZESF|B0068TJOSQ|     154476766|H&R Block At Home...|Digital_Software|          5|            0|          0|   N|                Y|This was a Great ...|This was a Great ...| 2015-08-31|\n",
            "|         US|   12631500| RWTF87EKV4DYO|B00SGYWM80|     780881648| onlineTV [Download]|Digital_Software|          3|            0|          0|   N|                Y|         Three Stars|did not use,inter...| 2015-08-31|\n",
            "+-----------+-----------+--------------+----------+--------------+--------------------+----------------+-----------+-------------+-----------+----+-----------------+--------------------+--------------------+-----------+\n",
            "only showing top 20 rows\n",
            "\n"
          ]
        }
      ]
    },
    {
      "cell_type": "code",
      "source": [
        "df = df.dropna()\n",
        "\n",
        "num_rows = df.count()\n",
        "\n",
        "print(f\"Number of rows = {num_rows:,}\")"
      ],
      "metadata": {
        "id": "uALeoB4PjuOu",
        "colab": {
          "base_uri": "https://localhost:8080/"
        },
        "outputId": "6470889d-8cf0-4eb5-c4dc-a1d132d63586"
      },
      "execution_count": 10,
      "outputs": [
        {
          "output_type": "stream",
          "name": "stdout",
          "text": [
            "Number of rows = 102,077\n"
          ]
        }
      ]
    },
    {
      "cell_type": "code",
      "source": [
        "df.distinct().count()"
      ],
      "metadata": {
        "colab": {
          "base_uri": "https://localhost:8080/"
        },
        "id": "V9fLbrlGoxDe",
        "outputId": "2e408df7-794e-47ff-9b83-bf584dd2c768"
      },
      "execution_count": 11,
      "outputs": [
        {
          "output_type": "execute_result",
          "data": {
            "text/plain": [
              "102077"
            ]
          },
          "metadata": {},
          "execution_count": 11
        }
      ]
    },
    {
      "cell_type": "code",
      "source": [
        "from pyspark.sql.types import StructField, StructType, DateType, IntegerType, StringType"
      ],
      "metadata": {
        "id": "Zc8pc2cwHum9"
      },
      "execution_count": 12,
      "outputs": []
    },
    {
      "cell_type": "code",
      "source": [
        "# Make tables: review_id_table; products; customers; vine_table\n",
        "\n",
        "# CREATE TABLE review_id_table (\n",
        "#   review_id TEXT PRIMARY KEY NOT NULL,\n",
        "#   customer_id INTEGER,\n",
        "#   product_id TEXT,\n",
        "#   product_parent INTEGER,\n",
        "#   review_date DATE -- this should be in the formate yyyy-mm-dd\n",
        "# );\n",
        "\n",
        "review_id_df = df.select([\"review_id\", \"customer_id\", \"product_id\", \"product_parent\", \"review_date\"])\n",
        "\n",
        "review_id_df.show()\n",
        "\n",
        "review_id_df.printSchema()"
      ],
      "metadata": {
        "id": "BQNFnRcppYd2",
        "colab": {
          "base_uri": "https://localhost:8080/"
        },
        "outputId": "07e87509-453d-4363-c3fe-71644ef6c097"
      },
      "execution_count": 13,
      "outputs": [
        {
          "output_type": "stream",
          "name": "stdout",
          "text": [
            "+--------------+-----------+----------+--------------+-----------+\n",
            "|     review_id|customer_id|product_id|product_parent|review_date|\n",
            "+--------------+-----------+----------+--------------+-----------+\n",
            "|R2EI7QLPK4LF7U|   17747349|B00U7LCE6A|     106182406| 2015-08-31|\n",
            "|R1W5OMFK1Q3I3O|   10956619|B00HRJMOM4|     162269768| 2015-08-31|\n",
            "| RPZWSYWRP92GI|   13132245|B00P31G9PQ|     831433899| 2015-08-31|\n",
            "|R2WQWM04XHD9US|   35717248|B00FGDEPDY|     991059534| 2015-08-31|\n",
            "|R1WSPK2RA2PDEF|   17710652|B00FZ0FK0U|     574904556| 2015-08-31|\n",
            "|R11JVGRZRHTDAS|   42392705|B004KPKSRQ|     306022575| 2015-08-31|\n",
            "|R2B8468OKXXYE2|   52845868|B00B1TFNTW|      54873662| 2015-08-31|\n",
            "|R2HGGCCZSSNUCB|   15696503|B00M9GTJLY|     103182180| 2015-08-31|\n",
            "| REEE4LHSVPRV9|    9723928|B00H9A60O4|     608720080| 2015-08-31|\n",
            "|R25OMUUILFFHI9|   23522877|B008XAXAC4|      87969525| 2015-08-31|\n",
            "|R2966PB8UBD5BM|   17022093|B00MHZ6Z64|     249773946| 2015-08-31|\n",
            "|R1OU91L2G5H6H1|   11635690|B00OPCQ70Q|     956532818| 2015-08-31|\n",
            "|R3M6YQVMXWGTR6|   50349059|B00MHZ71G2|       8655796| 2015-08-31|\n",
            "|R2M8VZGO4BFN9J|     450121|B00O8J0W6G|       7338419| 2015-08-31|\n",
            "|R3UH0MJKIJ4VLP|    2320642|B00NMPZCH6|     985055699| 2015-08-31|\n",
            "|R3E906WYGZVKWO|   16089737|B012P5SJNC|     490456974| 2015-08-31|\n",
            "|R1Z3N8UA5YQOV2|   14082044|B00V9ZPIXY|      57097904| 2015-08-31|\n",
            "|R2VH10XSOR1QHF|   18246272|B00LU2XHAC|     962800663| 2015-08-31|\n",
            "|R1KCPJ8UASZESF|   31837971|B0068TJOSQ|     154476766| 2015-08-31|\n",
            "| RWTF87EKV4DYO|   12631500|B00SGYWM80|     780881648| 2015-08-31|\n",
            "+--------------+-----------+----------+--------------+-----------+\n",
            "only showing top 20 rows\n",
            "\n",
            "root\n",
            " |-- review_id: string (nullable = true)\n",
            " |-- customer_id: integer (nullable = true)\n",
            " |-- product_id: string (nullable = true)\n",
            " |-- product_parent: integer (nullable = true)\n",
            " |-- review_date: date (nullable = true)\n",
            "\n"
          ]
        }
      ]
    },
    {
      "cell_type": "code",
      "source": [
        "# Change nullable value\n",
        "\n",
        "new_schema = StructType([\n",
        "   StructField(\"review_id\", StringType(), False),\n",
        "   StructField(\"customer_id\", IntegerType(), True),\n",
        "   StructField(\"product_id\", StringType(), True),\n",
        "   StructField(\"product_parent\", IntegerType(), True),\n",
        "   StructField(\"review_date\", DateType(), True)\n",
        "   ])\n",
        "\n",
        "review_id_df = spark.createDataFrame(review_id_df[[\"review_id\", \"customer_id\", \"product_id\", \"product_parent\", \"review_date\"]].collect(), new_schema)\n",
        "\n",
        "review_id_df.printSchema()\n",
        "\n",
        "review_id_df.show()"
      ],
      "metadata": {
        "colab": {
          "base_uri": "https://localhost:8080/"
        },
        "id": "QVBoyd0GFP7N",
        "outputId": "74f687b8-e1be-425c-e6dd-ba4411b2f925"
      },
      "execution_count": 14,
      "outputs": [
        {
          "output_type": "stream",
          "name": "stdout",
          "text": [
            "root\n",
            " |-- review_id: string (nullable = false)\n",
            " |-- customer_id: integer (nullable = true)\n",
            " |-- product_id: string (nullable = true)\n",
            " |-- product_parent: integer (nullable = true)\n",
            " |-- review_date: date (nullable = true)\n",
            "\n",
            "+--------------+-----------+----------+--------------+-----------+\n",
            "|     review_id|customer_id|product_id|product_parent|review_date|\n",
            "+--------------+-----------+----------+--------------+-----------+\n",
            "|R2EI7QLPK4LF7U|   17747349|B00U7LCE6A|     106182406| 2015-08-31|\n",
            "|R1W5OMFK1Q3I3O|   10956619|B00HRJMOM4|     162269768| 2015-08-31|\n",
            "| RPZWSYWRP92GI|   13132245|B00P31G9PQ|     831433899| 2015-08-31|\n",
            "|R2WQWM04XHD9US|   35717248|B00FGDEPDY|     991059534| 2015-08-31|\n",
            "|R1WSPK2RA2PDEF|   17710652|B00FZ0FK0U|     574904556| 2015-08-31|\n",
            "|R11JVGRZRHTDAS|   42392705|B004KPKSRQ|     306022575| 2015-08-31|\n",
            "|R2B8468OKXXYE2|   52845868|B00B1TFNTW|      54873662| 2015-08-31|\n",
            "|R2HGGCCZSSNUCB|   15696503|B00M9GTJLY|     103182180| 2015-08-31|\n",
            "| REEE4LHSVPRV9|    9723928|B00H9A60O4|     608720080| 2015-08-31|\n",
            "|R25OMUUILFFHI9|   23522877|B008XAXAC4|      87969525| 2015-08-31|\n",
            "|R2966PB8UBD5BM|   17022093|B00MHZ6Z64|     249773946| 2015-08-31|\n",
            "|R1OU91L2G5H6H1|   11635690|B00OPCQ70Q|     956532818| 2015-08-31|\n",
            "|R3M6YQVMXWGTR6|   50349059|B00MHZ71G2|       8655796| 2015-08-31|\n",
            "|R2M8VZGO4BFN9J|     450121|B00O8J0W6G|       7338419| 2015-08-31|\n",
            "|R3UH0MJKIJ4VLP|    2320642|B00NMPZCH6|     985055699| 2015-08-31|\n",
            "|R3E906WYGZVKWO|   16089737|B012P5SJNC|     490456974| 2015-08-31|\n",
            "|R1Z3N8UA5YQOV2|   14082044|B00V9ZPIXY|      57097904| 2015-08-31|\n",
            "|R2VH10XSOR1QHF|   18246272|B00LU2XHAC|     962800663| 2015-08-31|\n",
            "|R1KCPJ8UASZESF|   31837971|B0068TJOSQ|     154476766| 2015-08-31|\n",
            "| RWTF87EKV4DYO|   12631500|B00SGYWM80|     780881648| 2015-08-31|\n",
            "+--------------+-----------+----------+--------------+-----------+\n",
            "only showing top 20 rows\n",
            "\n"
          ]
        }
      ]
    },
    {
      "cell_type": "code",
      "source": [
        "# -- This table will contain only unique values\n",
        "\n",
        "# CREATE TABLE products (\n",
        "#   product_id TEXT PRIMARY KEY NOT NULL UNIQUE,\n",
        "#   product_title TEXT\n",
        "# );\n",
        "\n",
        "products_df = df.select([\"product_id\", \"product_title\"])\n",
        "\n",
        "products_df.count()"
      ],
      "metadata": {
        "colab": {
          "base_uri": "https://localhost:8080/"
        },
        "id": "R17Y39IZtcl4",
        "outputId": "267f0c55-d08d-4edf-aa50-9df4be5c6ec2"
      },
      "execution_count": 15,
      "outputs": [
        {
          "output_type": "execute_result",
          "data": {
            "text/plain": [
              "102077"
            ]
          },
          "metadata": {},
          "execution_count": 15
        }
      ]
    },
    {
      "cell_type": "code",
      "source": [
        "products_df = products_df.distinct()\n",
        "\n",
        "products_df.show()\n",
        "\n",
        "products_df.printSchema()\n",
        "\n",
        "products_df.count()"
      ],
      "metadata": {
        "colab": {
          "base_uri": "https://localhost:8080/"
        },
        "id": "6VaFue48oXaV",
        "outputId": "176191fd-7b6f-46fd-8f27-a9ea163ca436"
      },
      "execution_count": 16,
      "outputs": [
        {
          "output_type": "stream",
          "name": "stdout",
          "text": [
            "+----------+--------------------+\n",
            "|product_id|       product_title|\n",
            "+----------+--------------------+\n",
            "|B00BSDZRTC|Office Suite [Dow...|\n",
            "|B00E7XA542|QuickBooks 2014 f...|\n",
            "|B00SG4YZC6|Power2Go 10 Delux...|\n",
            "|B008DXM7RK|YourSafetynet hom...|\n",
            "|B009H6ERAC|        Rostta Stone|\n",
            "|B00M9H6RJ0|MAGIX Audio & Mus...|\n",
            "|B00PRJ4IBG|HyperSnap screen ...|\n",
            "|B007SOLPF0|Math Coloring Boo...|\n",
            "|B00JAQQANG|openCanvas 5.5 [D...|\n",
            "|B00CQ8SXOO|Volume Repair [Do...|\n",
            "|B0092T30G6|Innovative Knowle...|\n",
            "|B007JYTWC2|Kitt GPS Voice fo...|\n",
            "|B005UHJYYQ|Internet Security...|\n",
            "|B003ZK51XS|Quicken Rental Pr...|\n",
            "|B005S4Z2PQ|Home Designer Int...|\n",
            "|B004GJWZNG|Charts and Graphs...|\n",
            "|B00W63HQLA|Doxillion Documen...|\n",
            "|B005S4Y13K|TurboTax Deluxe F...|\n",
            "|B00IUSWBBU|Anime Studio Debu...|\n",
            "|B009H6FIOQ|        Rostta Stone|\n",
            "+----------+--------------------+\n",
            "only showing top 20 rows\n",
            "\n",
            "root\n",
            " |-- product_id: string (nullable = true)\n",
            " |-- product_title: string (nullable = true)\n",
            "\n"
          ]
        },
        {
          "output_type": "execute_result",
          "data": {
            "text/plain": [
              "2998"
            ]
          },
          "metadata": {},
          "execution_count": 16
        }
      ]
    },
    {
      "cell_type": "code",
      "source": [
        "# Change nullable value\n",
        "\n",
        "new_schema = StructType([\n",
        "   StructField(\"product_id\", StringType(), False),\n",
        "   StructField(\"product_title\", StringType(), True)])\n",
        "\n",
        "products_df = spark.createDataFrame(products_df[[\"product_id\", \"product_title\"]].collect(), new_schema)\n",
        "\n",
        "products_df.printSchema()\n",
        "\n",
        "products_df.show()"
      ],
      "metadata": {
        "colab": {
          "base_uri": "https://localhost:8080/"
        },
        "id": "8DNNel-eIAyq",
        "outputId": "d2eed965-eb35-4b75-b7c0-83e0a65e95ec"
      },
      "execution_count": 17,
      "outputs": [
        {
          "output_type": "stream",
          "name": "stdout",
          "text": [
            "root\n",
            " |-- product_id: string (nullable = false)\n",
            " |-- product_title: string (nullable = true)\n",
            "\n",
            "+----------+--------------------+\n",
            "|product_id|       product_title|\n",
            "+----------+--------------------+\n",
            "|B00BSDZRTC|Office Suite [Dow...|\n",
            "|B00E7XA542|QuickBooks 2014 f...|\n",
            "|B00SG4YZC6|Power2Go 10 Delux...|\n",
            "|B008DXM7RK|YourSafetynet hom...|\n",
            "|B009H6ERAC|        Rostta Stone|\n",
            "|B00M9H6RJ0|MAGIX Audio & Mus...|\n",
            "|B00PRJ4IBG|HyperSnap screen ...|\n",
            "|B007SOLPF0|Math Coloring Boo...|\n",
            "|B00JAQQANG|openCanvas 5.5 [D...|\n",
            "|B00CQ8SXOO|Volume Repair [Do...|\n",
            "|B0092T30G6|Innovative Knowle...|\n",
            "|B007JYTWC2|Kitt GPS Voice fo...|\n",
            "|B005UHJYYQ|Internet Security...|\n",
            "|B003ZK51XS|Quicken Rental Pr...|\n",
            "|B005S4Z2PQ|Home Designer Int...|\n",
            "|B004GJWZNG|Charts and Graphs...|\n",
            "|B00W63HQLA|Doxillion Documen...|\n",
            "|B005S4Y13K|TurboTax Deluxe F...|\n",
            "|B00IUSWBBU|Anime Studio Debu...|\n",
            "|B009H6FIOQ|        Rostta Stone|\n",
            "+----------+--------------------+\n",
            "only showing top 20 rows\n",
            "\n"
          ]
        }
      ]
    },
    {
      "cell_type": "code",
      "source": [
        "# -- Customer table for first data set\n",
        "\n",
        "# CREATE TABLE customers (\n",
        "#   customer_id INT PRIMARY KEY NOT NULL UNIQUE,\n",
        "#   customer_count INT\n",
        "# );\n",
        "\n",
        "customers_df = df.groupBy(\"customer_id\").count()\n",
        "\n",
        "customers_df = customers_df.withColumnRenamed(\"count\", \"customer_count\")\n",
        "\n",
        "customers_df = customers_df.withColumn(\"customer_count\", customers_df[\"customer_count\"].cast(\"int\"))\n",
        "\n",
        "customers_df.show()\n",
        "\n",
        "customers_df.printSchema()"
      ],
      "metadata": {
        "colab": {
          "base_uri": "https://localhost:8080/"
        },
        "id": "yWriCpTXtcri",
        "outputId": "5786d622-8667-4255-fecb-31a130b01647"
      },
      "execution_count": 18,
      "outputs": [
        {
          "output_type": "stream",
          "name": "stdout",
          "text": [
            "+-----------+--------------+\n",
            "|customer_id|customer_count|\n",
            "+-----------+--------------+\n",
            "|   46639223|             1|\n",
            "|   50407297|             1|\n",
            "|   52707015|             1|\n",
            "|   21817779|             1|\n",
            "|     178254|             1|\n",
            "|    1442229|             1|\n",
            "|   12811624|             1|\n",
            "|   40840841|             1|\n",
            "|   48319420|             1|\n",
            "|   16205135|             1|\n",
            "|   12115907|             1|\n",
            "|   30190304|             1|\n",
            "|   43013424|             1|\n",
            "|   51495952|             1|\n",
            "|   16558777|             1|\n",
            "|   53013109|             2|\n",
            "|   50065664|             1|\n",
            "|    3534576|             1|\n",
            "|   36456998|             1|\n",
            "|   31609314|             1|\n",
            "+-----------+--------------+\n",
            "only showing top 20 rows\n",
            "\n",
            "root\n",
            " |-- customer_id: integer (nullable = true)\n",
            " |-- customer_count: integer (nullable = false)\n",
            "\n"
          ]
        }
      ]
    },
    {
      "cell_type": "code",
      "source": [
        "# Change nullable value\n",
        "\n",
        "new_schema = StructType([\n",
        "   StructField(\"customer_id\", IntegerType(), False),\n",
        "   StructField(\"customer_count\", IntegerType(), True)])\n",
        "\n",
        "customers_df = spark.createDataFrame(customers_df[[\"customer_id\", \"customer_count\"]].collect(), new_schema)\n",
        "\n",
        "customers_df.printSchema()\n",
        "\n",
        "customers_df.show()"
      ],
      "metadata": {
        "colab": {
          "base_uri": "https://localhost:8080/"
        },
        "id": "AXGO-TtPIIRA",
        "outputId": "56f9a607-ef1b-4576-8990-d10b9dc381f2"
      },
      "execution_count": 19,
      "outputs": [
        {
          "output_type": "stream",
          "name": "stdout",
          "text": [
            "root\n",
            " |-- customer_id: integer (nullable = false)\n",
            " |-- customer_count: integer (nullable = true)\n",
            "\n",
            "+-----------+--------------+\n",
            "|customer_id|customer_count|\n",
            "+-----------+--------------+\n",
            "|   46639223|             1|\n",
            "|   50407297|             1|\n",
            "|   52707015|             1|\n",
            "|   21817779|             1|\n",
            "|     178254|             1|\n",
            "|    1442229|             1|\n",
            "|   12811624|             1|\n",
            "|   40840841|             1|\n",
            "|   48319420|             1|\n",
            "|   16205135|             1|\n",
            "|   12115907|             1|\n",
            "|   30190304|             1|\n",
            "|   43013424|             1|\n",
            "|   51495952|             1|\n",
            "|   16558777|             1|\n",
            "|   53013109|             2|\n",
            "|   50065664|             1|\n",
            "|    3534576|             1|\n",
            "|   36456998|             1|\n",
            "|   31609314|             1|\n",
            "+-----------+--------------+\n",
            "only showing top 20 rows\n",
            "\n"
          ]
        }
      ]
    },
    {
      "cell_type": "code",
      "source": [
        "# -- vine table\n",
        "\n",
        "# CREATE TABLE vine_table (\n",
        "#   review_id TEXT PRIMARY KEY,\n",
        "#   star_rating INTEGER,\n",
        "#   helpful_votes INTEGER,\n",
        "#   total_votes INTEGER,\n",
        "#   vine TEXT\n",
        "# );\n",
        "\n",
        "vine_table_df = df.select([\"review_id\", \"star_rating\", \"helpful_votes\", \"total_votes\", \"vine\"])\n",
        "\n",
        "vine_table_df.show()\n",
        "\n",
        "vine_table_df.printSchema()"
      ],
      "metadata": {
        "colab": {
          "base_uri": "https://localhost:8080/"
        },
        "id": "e5vCNMmktcw0",
        "outputId": "a33d8c76-0909-459f-f626-05a44c0e0d43"
      },
      "execution_count": 21,
      "outputs": [
        {
          "output_type": "stream",
          "name": "stdout",
          "text": [
            "+--------------+-----------+-------------+-----------+----+\n",
            "|     review_id|star_rating|helpful_votes|total_votes|vine|\n",
            "+--------------+-----------+-------------+-----------+----+\n",
            "|R2EI7QLPK4LF7U|          4|            0|          0|   N|\n",
            "|R1W5OMFK1Q3I3O|          3|            0|          0|   N|\n",
            "| RPZWSYWRP92GI|          1|            1|          2|   N|\n",
            "|R2WQWM04XHD9US|          5|            0|          0|   N|\n",
            "|R1WSPK2RA2PDEF|          4|            1|          2|   N|\n",
            "|R11JVGRZRHTDAS|          5|            4|          4|   N|\n",
            "|R2B8468OKXXYE2|          1|            1|          1|   N|\n",
            "|R2HGGCCZSSNUCB|          1|            0|          0|   N|\n",
            "| REEE4LHSVPRV9|          1|            0|          0|   N|\n",
            "|R25OMUUILFFHI9|          5|            0|          0|   N|\n",
            "|R2966PB8UBD5BM|          5|            0|          0|   N|\n",
            "|R1OU91L2G5H6H1|          1|            0|          2|   N|\n",
            "|R3M6YQVMXWGTR6|          5|            0|          0|   N|\n",
            "|R2M8VZGO4BFN9J|          1|            0|          1|   N|\n",
            "|R3UH0MJKIJ4VLP|          3|            2|          3|   N|\n",
            "|R3E906WYGZVKWO|          1|            2|          2|   N|\n",
            "|R1Z3N8UA5YQOV2|          2|            0|          0|   N|\n",
            "|R2VH10XSOR1QHF|          5|            0|          0|   N|\n",
            "|R1KCPJ8UASZESF|          5|            0|          0|   N|\n",
            "| RWTF87EKV4DYO|          3|            0|          0|   N|\n",
            "+--------------+-----------+-------------+-----------+----+\n",
            "only showing top 20 rows\n",
            "\n",
            "root\n",
            " |-- review_id: string (nullable = true)\n",
            " |-- star_rating: integer (nullable = true)\n",
            " |-- helpful_votes: integer (nullable = true)\n",
            " |-- total_votes: integer (nullable = true)\n",
            " |-- vine: string (nullable = true)\n",
            "\n"
          ]
        }
      ]
    },
    {
      "cell_type": "code",
      "source": [
        "# AWS \n",
        "\n",
        "my_aws_endpoint = 'mypostgresdb.ct46lxgt7vhw.us-east-2.rds.amazonaws.com' \n",
        "my_aws_port_number = '5432' \n",
        "my_aws_database_name = 'my_data_class_db'\n",
        "my_aws_username = '' \n",
        "my_aws_password = '' "
      ],
      "metadata": {
        "id": "LoImnemBT5AO"
      },
      "execution_count": 23,
      "outputs": []
    },
    {
      "cell_type": "code",
      "source": [
        "# Define the connection string\n",
        "jdbc_url=f'jdbc:postgresql://{my_aws_endpoint}:{my_aws_port_number}/{my_aws_database_name}'\n",
        "\n",
        "# Set up the configuration parameters\n",
        "config = {\"user\": f'{my_aws_username}', \n",
        "          \"password\": f'{my_aws_password}', \n",
        "          \"driver\":\"org.postgresql.Driver\"}\n",
        "\n",
        "mode = 'append' "
      ],
      "metadata": {
        "id": "49Kzf8BVT47a"
      },
      "execution_count": 24,
      "outputs": []
    },
    {
      "cell_type": "code",
      "source": [
        "# Make tables: review_id_table; products; customers; vine_table\n",
        "# Write the dataframe to the appropriate table in your PostgreSQL RDS\n",
        "\n",
        "review_id_df.write.jdbc(url=jdbc_url, table='review_id_table', mode=mode, properties=config)"
      ],
      "metadata": {
        "id": "KHeMufYpX2V5"
      },
      "execution_count": 25,
      "outputs": []
    },
    {
      "cell_type": "code",
      "source": [
        "products_df.write.jdbc(url=jdbc_url, table='products', mode=mode, properties=config)"
      ],
      "metadata": {
        "id": "irQ5lGc4T4sI"
      },
      "execution_count": 26,
      "outputs": []
    },
    {
      "cell_type": "code",
      "source": [
        "customers_df.write.jdbc(url=jdbc_url, table='customers', mode=mode, properties=config)"
      ],
      "metadata": {
        "id": "qxHvQJTbVi5y"
      },
      "execution_count": 27,
      "outputs": []
    },
    {
      "cell_type": "code",
      "source": [
        "vine_table_df.write.jdbc(url=jdbc_url, table='vine_table', mode=mode, properties=config)"
      ],
      "metadata": {
        "id": "rr2W6xv6Viv9"
      },
      "execution_count": 28,
      "outputs": []
    }
  ]
}